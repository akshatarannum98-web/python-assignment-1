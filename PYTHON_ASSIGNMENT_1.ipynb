{
  "nbformat": 4,
  "nbformat_minor": 0,
  "metadata": {
    "colab": {
      "provenance": []
    },
    "kernelspec": {
      "name": "python3",
      "display_name": "Python 3"
    },
    "language_info": {
      "name": "python"
    }
  },
  "cells": [
    {
      "cell_type": "markdown",
      "source": [
        "\"PYTHON"
      ],
      "metadata": {
        "id": "4h0ZZSziniMs"
      }
    },
    {
      "cell_type": "markdown",
      "source": [
        "1. What is Python, and why is it popular\n",
        "-  Python is basically a programming language designed to be easily read and execute code straighforward. Python is popular as compared to other programming language as it is easy and beginner friendly by this it also helps professionals to write complex programmes.\n",
        "\n",
        "2. What is an interpreter in Python?\n",
        "- An interpreter in python helps in executing the programme line by line and it executes code by using Python Vertual Machine (PVM).\n",
        "\n",
        "3. What are pre-defined keywords in Python?\n",
        "- In python pre-defined keywords are reserved words with special meaning and we cannot use thses words as variables or functions.\n",
        "\n",
        "4. Can keywords be used as variable names?\n",
        "- No, keywords cannot be used as variable names in python.\n",
        "\n",
        "5. What is mutability in Python?\n",
        "- Mutability in pythonmeans an abjects value can be changed or modifies after it is created.\n",
        "\n",
        "6. Why are lists mutable, but tuples are immutable?\n",
        "- List are dynamic collections whereas tuples are fixed collection making it immutable.\n",
        "\n",
        "7. What is the difference between “==” and “is” operators in Python?\n",
        "- \"==\" is a operator which checks the value of the two objects are same or not whereas \"is\" ckecks whether two variables leads to the same object in the memory.\n",
        "\n",
        "8. What are logical operators in Python?\n",
        "- Logical operator basically combine conditional operator and return true or false basec onthe given condition.\n",
        "\n",
        "9. What is type casting in Python?\n",
        "- Type casting is also known as type conversion used to convert one data type into another. For eg. int to string or sting to float.\n",
        "\n",
        "10. What is the difference between implicit and explicit type casting?\n",
        "- The major difference between implicit and explicit type casting is that in the former one data type is converted to another without the interferce of the programmmer while in the later it is done by the prorammmer using built in function.\n",
        "\n",
        "11. What is the purpose of conditional statements in Python?\n",
        "- The purpose of conditional statements in python is to execute different blocks of code based on whether a specific condition is true or false.\n",
        "\n",
        "12. How does the elif statement work?\n",
        "- elif stands for if else statement, it basically run a code and checks all the conditions and returns true if a condition is met if not it print false if mentioned.\n",
        "\n",
        "13. What is the difference between for and while loops?\n",
        "- In for loop the programmer knows how many times he wants to repeat the loop whereas in while loop the programmer do not know in advance about the repitation of a loop.\n",
        "\n",
        "14. Describe a scenario where a while loop is more suitable than a for loop?\n",
        " - Suppose a bank allows a user to enter their ATM PIN until they get it right. You don’t know in advance how many attempts it will take. You only stop when the condition (entered_pin == correct_pin) becomes True. This is a perfect scenario for a while loop because you don't know beforehand how many times the loop needs to run. The loop continues while the condition (the PIN is incorrect) is true. A for loop is typically used when you know the exact number of times you want to iterate."
      ],
      "metadata": {
        "id": "dBkJdZvubk97"
      }
    },
    {
      "cell_type": "markdown",
      "source": [
        "Practical Questions\n",
        "\n",
        "1. Write a Python program to print \"Hello, World!?"
      ],
      "metadata": {
        "id": "JKfB5a39WvxD"
      }
    },
    {
      "cell_type": "code",
      "source": [
        "print \"Hello, World!\""
      ],
      "metadata": {
        "id": "Ar4jc8CVW2Q6"
      },
      "execution_count": null,
      "outputs": []
    },
    {
      "cell_type": "markdown",
      "source": [
        "2. Write a Python program that displays your name and age?"
      ],
      "metadata": {
        "id": "voxU-MAOXFPd"
      }
    },
    {
      "cell_type": "code",
      "source": [
        "\"name\" = \"Aksha\" age = 25\n",
        "       print(\"My name is\", name) print(\"I am\", age, \"years old\")"
      ],
      "metadata": {
        "id": "oKoRZj9jXN7c"
      },
      "execution_count": null,
      "outputs": []
    },
    {
      "cell_type": "markdown",
      "source": [
        "\n",
        "3. Write code to print all the pre-defined keywords in Python using the keyword library?"
      ],
      "metadata": {
        "id": "OaH9pHyrXfMU"
      }
    },
    {
      "cell_type": "code",
      "source": [
        "import keyword print(keyword.kwlist)"
      ],
      "metadata": {
        "id": "Q42FjhOVXo-7"
      },
      "execution_count": null,
      "outputs": []
    },
    {
      "cell_type": "markdown",
      "source": [
        "4. Write a program that checks if a given word is a Python keyword."
      ],
      "metadata": {
        "id": "nLzy3V71Xx3K"
      }
    },
    {
      "cell_type": "code",
      "source": [
        "import keyword word = \"aksha\"\n",
        "if keyword.iskeyword(word): print(f\"'{word}' is a Python keyword.\")\n",
        "else: print(f\"'{word}' is not a Python keyword.\")"
      ],
      "metadata": {
        "id": "BkFpTgYmX4a0"
      },
      "execution_count": null,
      "outputs": []
    },
    {
      "cell_type": "markdown",
      "source": [
        "5. Create a list and tuple in Python, and demonstrate how attempting to change an element works differently for each."
      ],
      "metadata": {
        "id": "r_Xtms7aYJEX"
      }
    },
    {
      "cell_type": "code",
      "source": [
        "my_list = [10, 20, 30] print(\"Original List:\", my_list)\n",
        "my_list[1] = 99    print(\"Modified List:\", my_list)\n",
        "my_tuple = (10, 20, 30) print(\"\\nOriginal Tuple:\", my_tuple)\n",
        "my_tuple[1] = 99\n",
        "print(\"Error when modifying tuple:\", e)"
      ],
      "metadata": {
        "id": "zAKV8q_JYQyl"
      },
      "execution_count": null,
      "outputs": []
    },
    {
      "cell_type": "markdown",
      "source": [
        "6. Write a function to demonstrate the behavior of mutable and immutable arguments"
      ],
      "metadata": {
        "id": "UZWZKILeYdIP"
      }
    },
    {
      "cell_type": "code",
      "source": [
        "def demonstrate_mutable_immutable(mutable_list, immutable_int):\n",
        "\n",
        "print(\"Inside the function:\") print(\"Original mutable_list:\", mutable_list) print(\"Original immutable_int:\", immutable_int)\n",
        "\n",
        "mutable_list.append(4) print(\"Modified mutable_list inside function:\", mutable_list)\n",
        "\n",
        "immutable_int = immutable_int + 1 print(\"Modified immutable_int inside function:\", immutable_int)\n",
        "\n",
        "my_list = [1, 2, 3] my_int = 10\n",
        "\n",
        "print(\"Outside the function (before call):\") print(\"my_list:\", my_list) print(\"my_int:\", my_int)\n",
        "\n",
        "demonstrate_mutable_immutable(my_list, my_int)\n",
        "\n",
        "print(\"Outside the function (after call):\") print(\"my_list:\", my_list) print(\"my_int:\", my_int)"
      ],
      "metadata": {
        "id": "_Ltl2MpsYjyp"
      },
      "execution_count": null,
      "outputs": []
    },
    {
      "cell_type": "markdown",
      "source": [
        "7. Write a program that performs basic arithmetic operations on two user-input numbers."
      ],
      "metadata": {
        "id": "vyH6K-UNYwyh"
      }
    },
    {
      "cell_type": "code",
      "source": [],
      "metadata": {
        "id": "phnYjQOWY4XC"
      },
      "execution_count": null,
      "outputs": []
    },
    {
      "cell_type": "markdown",
      "source": [
        "8. write a programme to demonstrate the use of logical operator."
      ],
      "metadata": {
        "id": "TsELDYbKZDKS"
      }
    },
    {
      "cell_type": "code",
      "source": [
        "   a = int(input(\"Enter first number: \"))\n",
        "   b = int(input(\"Enter second number: \"))\n",
        "\n",
        "   print(\"\\nLogical Operator Demonstration:\")\n",
        "\n",
        "   if a > 0 and b > 0:\n",
        "   print(\"Both numbers are positive.\")\n",
        "   if a > 0 or b > 0:\n",
        "   print(\"At least one number is positive.\")\n",
        "\n",
        "   if not (a < 0 and b < 0):\n",
        "   print(\"It is not true that both numbers are negative.\")\n",
        "   else:\n",
        "   print(\"Both numbers are negative.\""
      ],
      "metadata": {
        "id": "dosKru4OZMoI"
      },
      "execution_count": null,
      "outputs": []
    },
    {
      "cell_type": "markdown",
      "source": [
        "9. Write a Python program to convert use input from string to integer, float, and boolean types."
      ],
      "metadata": {
        "id": "Z-gZE_LXZP5Q"
      }
    },
    {
      "cell_type": "code",
      "source": [
        "     user_input = input(\"Enter a value: \")\n",
        "     print(\"\\nOriginal input (string):\", user_input, \" | Type:\", type(user_input))\n",
        "     try:\n",
        "     int_value = int(user_input)\n",
        "     print(\"As Integer:\", int_value, \" | Type:\", type(int_value))\n",
        "     except ValueError:\n",
        "     print(\"Cannot convert to Integer.\")\n",
        "     try:\n",
        "     float_value = float(user_input)\n",
        "     print(\"As Float:\", float_value, \" | Type:\", type(float_value))\n",
        "     except ValueError:\n",
        "     print(\"Cannot convert to Float.\")\n",
        "     bool_value = bool(user_input)\n",
        "     print(\"As Boolean:\", bool_value, \" | Type:\", type(bool_value))"
      ],
      "metadata": {
        "id": "R1rSO1pHZZbZ"
      },
      "execution_count": null,
      "outputs": []
    },
    {
      "cell_type": "markdown",
      "source": [
        "10. write a code to demonstrate type casting with list elements."
      ],
      "metadata": {
        "id": "OaZ2Fks2ZoVR"
      }
    },
    {
      "cell_type": "code",
      "source": [
        "     string_list = [\"10\", \"20\", \"30\", \"0\", \"\"]\n",
        "     print(\"Original List (strings):\", string_list)\n",
        "     try:\n",
        "     int_list = [int(x) for x in string_list if x.isdigit()]\n",
        "     print(\"List converted to Integers:\", int_list)\n",
        "     except ValueError as e:\n",
        "     print(\"Error in integer conversion:\", e)\n",
        "     try:\n",
        "     float_list = [float(x) for x in string_list if x.replace(\".\", \"\", 1).isdigit()]\n",
        "     print(\"List converted to Floats:\", float_list)\n",
        "     except ValueError as e:\n",
        "     print(\"Error in float conversion:\", e)\n",
        "     bool_list = [bool(x) for x in string_list]\n",
        "     print(\"List converted to Booleans:\", bool_list)"
      ],
      "metadata": {
        "id": "XfOajjNCZwiC"
      },
      "execution_count": null,
      "outputs": []
    },
    {
      "cell_type": "markdown",
      "source": [
        "11. Write a program that checks if a number is positive, negative or zero."
      ],
      "metadata": {
        "id": "PJPNb1HCZ2-f"
      }
    },
    {
      "cell_type": "code",
      "source": [
        "num = float(input(\"Enter a number: \"))\n",
        "     if num > 0:\n",
        "     print(\"The number is Positive.\")\n",
        "     elif num < 0:\n",
        "     print(\"The number is Negative.\")\n",
        "     else:\n",
        "     print(\"The number is Zero.\")"
      ],
      "metadata": {
        "id": "tJNXw3jwaAbb"
      },
      "execution_count": null,
      "outputs": []
    },
    {
      "cell_type": "markdown",
      "source": [
        "12. Write a for loop to print numbers from 1 to 10."
      ],
      "metadata": {
        "id": "Di8HFw8daCTR"
      }
    },
    {
      "cell_type": "code",
      "source": [
        "for i in range(1, 11):\n",
        "print(i)"
      ],
      "metadata": {
        "id": "Zp4sxboeaJoR"
      },
      "execution_count": null,
      "outputs": []
    },
    {
      "cell_type": "markdown",
      "source": [
        "13. Write a python program to find the sum of all even numbers between 1 and 50."
      ],
      "metadata": {
        "id": "KL74cI3FaQXE"
      }
    },
    {
      "cell_type": "code",
      "source": [
        "     total = 0\n",
        "     for i in range(1, 51):\n",
        "     if i % 2 == 0:\n",
        "     total += i"
      ],
      "metadata": {
        "id": "E29xMNTraXua"
      },
      "execution_count": null,
      "outputs": []
    },
    {
      "cell_type": "markdown",
      "source": [
        "14. Write a program to reverse a string using a while loop."
      ],
      "metadata": {
        "id": "SLdoyucHac_l"
      }
    },
    {
      "cell_type": "code",
      "source": [
        "     text = input(\"Enter a string: \")\n",
        "     reversed_text = \"\"\n",
        "     i = len(text) - 1\n",
        "     while i >= 0:\n",
        "     reversed_text += text[i]\n",
        "     i -= 1"
      ],
      "metadata": {
        "id": "DopMsRxiakFC"
      },
      "execution_count": null,
      "outputs": []
    }
  ]
}